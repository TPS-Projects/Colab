{
  "nbformat": 4,
  "nbformat_minor": 0,
  "metadata": {
    "colab": {
      "provenance": [],
      "authorship_tag": "ABX9TyP32960zhDHZcwEIIUMIszL",
      "include_colab_link": true
    },
    "kernelspec": {
      "name": "python3",
      "display_name": "Python 3"
    },
    "language_info": {
      "name": "python"
    }
  },
  "cells": [
    {
      "cell_type": "markdown",
      "metadata": {
        "id": "view-in-github",
        "colab_type": "text"
      },
      "source": [
        "<a href=\"https://colab.research.google.com/github/TPS-Projects/Colab/blob/main/Githublink.ipynb\" target=\"_parent\"><img src=\"https://colab.research.google.com/assets/colab-badge.svg\" alt=\"Open In Colab\"/></a>"
      ]
    },
    {
      "cell_type": "code",
      "execution_count": 7,
      "metadata": {
        "colab": {
          "base_uri": "https://localhost:8080/"
        },
        "id": "-WVx6sYijNoq",
        "outputId": "5733e556-8541-4230-bcec-4735921a66ca"
      },
      "outputs": [
        {
          "output_type": "stream",
          "name": "stdout",
          "text": [
            "Hello Github from Colab\n"
          ]
        }
      ],
      "source": [
        "\n",
        "#Teste de integração Colab-Git\n",
        "\n",
        "print (\"Hello Github from Colab\")"
      ]
    },
    {
      "cell_type": "code",
      "source": [
        "#Para clonar repos\n",
        "!git clone https://github.com/TPS-Projects/Colab\n",
        "%cd Colab"
      ],
      "metadata": {
        "colab": {
          "base_uri": "https://localhost:8080/"
        },
        "id": "FiukuhAlcjdp",
        "outputId": "895ca986-5afb-4e6d-ed1f-3e1911b1d5b4"
      },
      "execution_count": 8,
      "outputs": [
        {
          "output_type": "stream",
          "name": "stdout",
          "text": [
            "Cloning into 'Colab'...\n",
            "remote: Enumerating objects: 3, done.\u001b[K\n",
            "remote: Counting objects: 100% (3/3), done.\u001b[K\n",
            "remote: Total 3 (delta 0), reused 0 (delta 0), pack-reused 0 (from 0)\u001b[K\n",
            "Receiving objects: 100% (3/3), done.\n",
            "/content/Colab/Colab\n"
          ]
        }
      ]
    },
    {
      "cell_type": "code",
      "source": [
        "#configuração do github\n",
        "!git config --global user.email \"tiago.pereiragml@gmail.com\"\n",
        "!git config --global user.name \"TPS-Projects\"\n"
      ],
      "metadata": {
        "id": "lagkfX6_CSA1"
      },
      "execution_count": 9,
      "outputs": []
    },
    {
      "cell_type": "code",
      "source": [
        "#Commit e push\n",
        "!git add .\n",
        "!git commit -m \"Atualiza código do Colab\"\n",
        "!git push origin main"
      ],
      "metadata": {
        "colab": {
          "base_uri": "https://localhost:8080/"
        },
        "id": "fbwD_HW9f0s7",
        "outputId": "e44a0133-0507-49e1-9206-a4b3ee6fd489"
      },
      "execution_count": 10,
      "outputs": [
        {
          "output_type": "stream",
          "name": "stdout",
          "text": [
            "On branch main\n",
            "Your branch is up to date with 'origin/main'.\n",
            "\n",
            "nothing to commit, working tree clean\n",
            "fatal: could not read Username for 'https://github.com': No such device or address\n"
          ]
        }
      ]
    },
    {
      "cell_type": "code",
      "source": [
        "!git push origin main\n"
      ],
      "metadata": {
        "colab": {
          "base_uri": "https://localhost:8080/"
        },
        "id": "f0Suqvpwh5m6",
        "outputId": "92edec31-1d94-4678-b8d4-cee35c2de16f"
      },
      "execution_count": 13,
      "outputs": [
        {
          "output_type": "stream",
          "name": "stdout",
          "text": [
            "fatal: could not read Username for 'https://github.com': No such device or address\n"
          ]
        }
      ]
    }
  ]
}